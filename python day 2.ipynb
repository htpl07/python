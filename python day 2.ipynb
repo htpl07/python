{
 "cells": [
  {
   "cell_type": "markdown",
   "metadata": {},
   "source": [
    "# control  flow statements "
   ]
  },
  {
   "cell_type": "markdown",
   "metadata": {},
   "source": [
    "## if condition\n"
   ]
  },
  {
   "cell_type": "code",
   "execution_count": 3,
   "metadata": {},
   "outputs": [
    {
     "name": "stdout",
     "output_type": "stream",
     "text": [
      "the number is less than 15\n"
     ]
    }
   ],
   "source": [
    "x=10;\n",
    "if(x<15):\n",
    "    print(\"the number is less than 15\");"
   ]
  },
  {
   "cell_type": "code",
   "execution_count": 8,
   "metadata": {},
   "outputs": [
    {
     "name": "stdout",
     "output_type": "stream",
     "text": [
      "number is greater than 2\n"
     ]
    }
   ],
   "source": [
    "x=10;\n",
    "if(x<2):\n",
    "    print(\"number is less than 2\");\n",
    "else: \n",
    "    print(\"number is greater than 2\");"
   ]
  },
  {
   "cell_type": "code",
   "execution_count": 9,
   "metadata": {},
   "outputs": [
    {
     "name": "stdout",
     "output_type": "stream",
     "text": [
      "number is equal to 5\n"
     ]
    }
   ],
   "source": [
    "x=5;\n",
    "if(x==5):\n",
    "    print(\"number is equal to 5\");\n",
    "elif(x<5):\n",
    "    print(\"number is less than 5\");\n",
    "else:\n",
    "    print(\"number is greater than 5\");"
   ]
  },
  {
   "cell_type": "markdown",
   "metadata": {},
   "source": [
    "# x and y is the input find large number of x and y\n"
   ]
  },
  {
   "cell_type": "code",
   "execution_count": 11,
   "metadata": {},
   "outputs": [
    {
     "name": "stdout",
     "output_type": "stream",
     "text": [
      "y is larger\n"
     ]
    }
   ],
   "source": [
    "x=21;\n",
    "y=41\n",
    "if(x<y):\n",
    "    print(\"y is larger\");\n",
    "else:\n",
    "    print(\"x is larger\");\n",
    "    "
   ]
  },
  {
   "cell_type": "code",
   "execution_count": 13,
   "metadata": {},
   "outputs": [
    {
     "name": "stdout",
     "output_type": "stream",
     "text": [
      "enter x value\n",
      "enter y value\n",
      "y is larger\n"
     ]
    }
   ],
   "source": [
    "print(\"enter x vaue\");\n",
    "print(\"enter y value\");\n",
    "if(x<y):\n",
    "    print(\"y is larger\");\n",
    "else:\n",
    "    print(\"x is larger\");\n",
    "        "
   ]
  },
  {
   "cell_type": "markdown",
   "metadata": {},
   "source": [
    "# two numbers as input if both are same output is square of first if not output is product of numbers"
   ]
  },
  {
   "cell_type": "code",
   "execution_count": 14,
   "metadata": {},
   "outputs": [
    {
     "name": "stdout",
     "output_type": "stream",
     "text": [
      "200\n"
     ]
    }
   ],
   "source": [
    "x=10;\n",
    "y=20;\n",
    "if(x==y):\n",
    "    print(x**2);\n",
    "else:\n",
    "    print(x*y);"
   ]
  },
  {
   "cell_type": "code",
   "execution_count": 15,
   "metadata": {},
   "outputs": [
    {
     "name": "stdout",
     "output_type": "stream",
     "text": [
      "400\n"
     ]
    }
   ],
   "source": [
    "x=20;\n",
    "y=20;\n",
    "if(x==y):\n",
    "    print(x**2);\n",
    "else:\n",
    "    print(x*y);"
   ]
  },
  {
   "cell_type": "markdown",
   "metadata": {},
   "source": [
    "# check wether given number is zero ,positive ,negative number"
   ]
  },
  {
   "cell_type": "code",
   "execution_count": 17,
   "metadata": {},
   "outputs": [
    {
     "name": "stdout",
     "output_type": "stream",
     "text": [
      "number is positive\n"
     ]
    }
   ],
   "source": [
    "x=52;\n",
    "if(x==0):\n",
    "    print(\"number is zero\");\n",
    "elif(x<0):\n",
    "    print(\"number is negative\");\n",
    "else:\n",
    "    print(\"number is positive\");\n",
    "    "
   ]
  },
  {
   "cell_type": "code",
   "execution_count": 18,
   "metadata": {},
   "outputs": [
    {
     "name": "stdout",
     "output_type": "stream",
     "text": [
      "enter x value10\n",
      "enter y value21\n",
      "x is less than y\n"
     ]
    }
   ],
   "source": [
    "x=int(input(\"enter x value\"));\n",
    "y=int(input(\"enter y value\"));\n",
    "if(x<y):\n",
    "    print(\"x is less than y\");\n",
    "else:\n",
    "    print(\"x is greater than y\");    "
   ]
  },
  {
   "cell_type": "code",
   "execution_count": 20,
   "metadata": {},
   "outputs": [
    {
     "name": "stdout",
     "output_type": "stream",
     "text": [
      "enter x value-5\n",
      "number is negative\n"
     ]
    }
   ],
   "source": [
    "x=int(input(\"enter x value\"));\n",
    "if(x==0):\n",
    "    print(\"number is zero\");\n",
    "elif(x<0):\n",
    "    print(\"number is negative\");\n",
    "else:\n",
    "    print(\"number is positive\");\n",
    "    "
   ]
  },
  {
   "cell_type": "markdown",
   "metadata": {},
   "source": [
    "# looping statements\n"
   ]
  },
  {
   "cell_type": "markdown",
   "metadata": {},
   "source": [
    "1.while:\n",
    "while(condition):\n",
    "loop statements\n",
    "increment/decrement\n",
    "\n",
    "the loop will execute as long as condition returns TRUE and it terminates when the condition is FALSE\n"
   ]
  },
  {
   "cell_type": "code",
   "execution_count": 21,
   "metadata": {},
   "outputs": [
    {
     "name": "stdout",
     "output_type": "stream",
     "text": [
      "1\n",
      "2\n",
      "3\n",
      "4\n",
      "5\n",
      "6\n",
      "7\n",
      "8\n",
      "9\n",
      "10\n"
     ]
    }
   ],
   "source": [
    "n=1;\n",
    "while(n<=10):\n",
    "    print(n);\n",
    "    n=n+1;\n",
    "    "
   ]
  },
  {
   "cell_type": "code",
   "execution_count": 22,
   "metadata": {},
   "outputs": [
    {
     "name": "stdout",
     "output_type": "stream",
     "text": [
      "0\n",
      "1\n",
      "2\n",
      "3\n",
      "4\n",
      "5\n",
      "6\n",
      "7\n",
      "8\n",
      "9\n",
      "10\n",
      "11\n"
     ]
    }
   ],
   "source": [
    "n=0;\n",
    "while(n<12):\n",
    "    print(n)\n",
    "    n=n+1;\n",
    "    "
   ]
  },
  {
   "cell_type": "markdown",
   "metadata": {},
   "source": [
    "# print the numbers from 10 to 1\n",
    "# print nnumbers from -22 to -45"
   ]
  },
  {
   "cell_type": "code",
   "execution_count": 23,
   "metadata": {},
   "outputs": [
    {
     "name": "stdout",
     "output_type": "stream",
     "text": [
      "10\n",
      "9\n",
      "8\n",
      "7\n",
      "6\n",
      "5\n",
      "4\n",
      "3\n",
      "2\n",
      "1\n"
     ]
    }
   ],
   "source": [
    "n=10;\n",
    "while(n>=1):\n",
    "    print(n)\n",
    "    n=n-1;"
   ]
  },
  {
   "cell_type": "code",
   "execution_count": 25,
   "metadata": {},
   "outputs": [
    {
     "name": "stdout",
     "output_type": "stream",
     "text": [
      "-22\n",
      "-23\n",
      "-24\n",
      "-25\n",
      "-26\n",
      "-27\n",
      "-28\n",
      "-29\n",
      "-30\n",
      "-31\n",
      "-32\n",
      "-33\n",
      "-34\n",
      "-35\n",
      "-36\n",
      "-37\n",
      "-38\n",
      "-39\n",
      "-40\n",
      "-41\n",
      "-42\n",
      "-43\n",
      "-44\n",
      "-45\n"
     ]
    }
   ],
   "source": [
    "n=-22;\n",
    "while(n>=-45):\n",
    "    print(n)\n",
    "    n=n-1;"
   ]
  },
  {
   "cell_type": "markdown",
   "metadata": {},
   "source": [
    "# sum of even numbers between 1 to 100"
   ]
  },
  {
   "cell_type": "code",
   "execution_count": 33,
   "metadata": {},
   "outputs": [
    {
     "name": "stdout",
     "output_type": "stream",
     "text": [
      "enter lower limit1\n",
      "enter upper limit100\n",
      "2450\n"
     ]
    }
   ],
   "source": [
    "x=int(input(\"enter lower limit\"));\n",
    "y=int(input(\"enter upper limit\"));\n",
    "sum=0;\n",
    "while(x!=y):\n",
    "    if(x%2==0):\n",
    "        sum=sum+x;\n",
    "    x=x+1;\n",
    "print(sum);"
   ]
  },
  {
   "cell_type": "markdown",
   "metadata": {},
   "source": [
    "# input:number        output: extract digits of the number from right side direction"
   ]
  },
  {
   "cell_type": "code",
   "execution_count": 42,
   "metadata": {},
   "outputs": [
    {
     "name": "stdout",
     "output_type": "stream",
     "text": [
      "enter the number145\n",
      "5\n",
      "4\n",
      "1\n"
     ]
    }
   ],
   "source": [
    "x=int(input(\"enter the number\"));\n",
    "while(x!=0):\n",
    "    r=x%10;\n",
    "    print(r);\n",
    "    x=x//10;\n",
    "    \n",
    "       "
   ]
  },
  {
   "cell_type": "markdown",
   "metadata": {},
   "source": [
    "# input:number ;    output: sum of even numbers in series ; eg:1889----16"
   ]
  },
  {
   "cell_type": "code",
   "execution_count": 16,
   "metadata": {},
   "outputs": [
    {
     "name": "stdout",
     "output_type": "stream",
     "text": [
      "enter the number1889\n",
      "16\n"
     ]
    }
   ],
   "source": [
    "x=int(input(\"enter the number\"));\n",
    "sum=0;\n",
    "while(x!=0):\n",
    "    r=x%10;\n",
    "    if(r%2==0):\n",
    "            sum=sum+r;\n",
    "    \n",
    "    x=x//10;\n",
    "\n",
    "\n",
    "print(sum);    "
   ]
  },
  {
   "cell_type": "markdown",
   "metadata": {},
   "source": [
    "# input:number  ;output: respective name to digit   eg:145-----five four one "
   ]
  },
  {
   "cell_type": "code",
   "execution_count": 25,
   "metadata": {},
   "outputs": [
    {
     "name": "stdout",
     "output_type": "stream",
     "text": [
      "enter the number265\n",
      "five six two "
     ]
    }
   ],
   "source": [
    "x=int(input(\"enter the number\"));\n",
    "while(x!=0):\n",
    "    r=x%10;\n",
    "    x=x//10;\n",
    "    if(r==0):\n",
    "        print(\"zero\", end=\" \");\n",
    "    elif(r==1):\n",
    "        print(\"one\", end=\" \");\n",
    "    elif(r==2):\n",
    "        print(\"two\", end=\" \");    \n",
    "    elif(r==3):\n",
    "        print(\"three\", end=\" \");\n",
    "    elif(r==4):\n",
    "        print(\"four\", end=\" \");\n",
    "    elif(r==5):\n",
    "        print(\"five\", end=\" \");\n",
    "    elif(r==6):\n",
    "        print(\"six\", end=\" \");\n",
    "    elif(r==7):\n",
    "        print(\"seven\", end=\" \");\n",
    "    elif(r==8):\n",
    "        print(\"eight\", end=\" \");\n",
    "    elif(r==9):\n",
    "        print(\"ninn\", end=\" \");    "
   ]
  },
  {
   "cell_type": "markdown",
   "metadata": {},
   "source": [
    "# input: three numbers  ;output: how many times number is repeated between 2nd and 3rd number  ;eg: 6,60,65-------5    ;7,70,88----12"
   ]
  },
  {
   "cell_type": "code",
   "execution_count": 1,
   "metadata": {},
   "outputs": [
    {
     "name": "stdout",
     "output_type": "stream",
     "text": [
      "enter number2\n",
      "enter lower level12\n",
      "enter upper level20\n",
      "1\n"
     ]
    }
   ],
   "source": [
    "digit=int(input(\"enter number\"));\n",
    "l1=int(input(\"enter lower level\"));\n",
    "l2=int(input(\"enter upper level\"));\n",
    "cnt=0;\n",
    "while(l1!=l2):\n",
    "    buffer=l1;\n",
    "    while(l1!=0):\n",
    "        r=l1%10;\n",
    "        if(r==digit):\n",
    "            cnt=cnt+1;\n",
    "        l1=l1/10;\n",
    "    l1=buffer;\n",
    "    l1=l1+1;\n",
    "print(cnt);            \n",
    "      \n",
    "    \n"
   ]
  },
  {
   "cell_type": "markdown",
   "metadata": {},
   "source": [
    "# functional programmming to print the natural numbers"
   ]
  },
  {
   "cell_type": "code",
   "execution_count": 3,
   "metadata": {},
   "outputs": [
    {
     "name": "stdout",
     "output_type": "stream",
     "text": [
      "1  2  3  4  5  6  7  8  9  \n",
      "1  2  3  4  5  6  7  8  9  10  11  12  \n"
     ]
    }
   ],
   "source": [
    "def printNaturalNumbers(n):\n",
    "    cnt=1;\n",
    "    while(cnt<=n):\n",
    "        print(cnt, end=\"  \");\n",
    "        cnt=cnt+1;\n",
    "    print()\n",
    "    return\n",
    "printNaturalNumbers(9);  \n",
    "printNaturalNumbers(12);"
   ]
  },
  {
   "cell_type": "markdown",
   "metadata": {},
   "source": [
    "# factorial"
   ]
  },
  {
   "cell_type": "code",
   "execution_count": 5,
   "metadata": {},
   "outputs": [
    {
     "name": "stdout",
     "output_type": "stream",
     "text": [
      "362880\n"
     ]
    }
   ],
   "source": [
    "def findFact(n):\n",
    "    fact=1;\n",
    "    while(n!=0):\n",
    "        fact=fact*n;\n",
    "        n=n-1;\n",
    "    return fact;\n",
    "print(findFact(9));\n",
    "    "
   ]
  },
  {
   "cell_type": "markdown",
   "metadata": {},
   "source": [
    "# count of palindromes between two limits"
   ]
  },
  {
   "cell_type": "code",
   "execution_count": 2,
   "metadata": {},
   "outputs": [
    {
     "name": "stdout",
     "output_type": "stream",
     "text": [
      "2\n"
     ]
    }
   ],
   "source": [
    "def countPalindrome(m,n):\n",
    "    cnt=0; \n",
    "    while(m!=n):\n",
    "        sum=0;\n",
    "        buffer=m;\n",
    "        while(m!=0):\n",
    "            r=m%10;\n",
    "            sum=(sum*10)+r;\n",
    "            m=m//10;\n",
    "        if(buffer==sum):\n",
    "            cnt=cnt+1;\n",
    "        m=buffer;\n",
    "        m=m+1;    \n",
    "    return cnt;\n",
    "print(countPalindrome(10,30));"
   ]
  },
  {
   "cell_type": "code",
   "execution_count": null,
   "metadata": {},
   "outputs": [],
   "source": []
  }
 ],
 "metadata": {
  "kernelspec": {
   "display_name": "Python 3",
   "language": "python",
   "name": "python3"
  },
  "language_info": {
   "codemirror_mode": {
    "name": "ipython",
    "version": 3
   },
   "file_extension": ".py",
   "mimetype": "text/x-python",
   "name": "python",
   "nbconvert_exporter": "python",
   "pygments_lexer": "ipython3",
   "version": "3.7.3"
  }
 },
 "nbformat": 4,
 "nbformat_minor": 2
}
