{
 "cells": [
  {
   "cell_type": "code",
   "execution_count": null,
   "metadata": {},
   "outputs": [],
   "source": [
    "def countPalindrome(m,n):\n",
    "    cnt=0;\n",
    "    sum=0;\n",
    "    while(m!=n):\n",
    "        buffer=m;\n",
    "        while(m!=0):\n",
    "            r=m%10;\n",
    "            sum=(sum*10)+r;\n",
    "            m=m/10;\n",
    "        m=buffer;\n",
    "    if(buffer==sum):\n",
    "        cnt=cnt+1;\n",
    "        m=m+1;    \n",
    "        return cnt;\n",
    "print(countPalindrome(10,30));"
   ]
  },
  {
   "cell_type": "code",
   "execution_count": null,
   "metadata": {},
   "outputs": [],
   "source": []
  },
  {
   "cell_type": "code",
   "execution_count": null,
   "metadata": {},
   "outputs": [],
   "source": []
  },
  {
   "cell_type": "code",
   "execution_count": null,
   "metadata": {},
   "outputs": [],
   "source": []
  }
 ],
 "metadata": {
  "kernelspec": {
   "display_name": "Python 3",
   "language": "python",
   "name": "python3"
  },
  "language_info": {
   "codemirror_mode": {
    "name": "ipython",
    "version": 3
   },
   "file_extension": ".py",
   "mimetype": "text/x-python",
   "name": "python",
   "nbconvert_exporter": "python",
   "pygments_lexer": "ipython3",
   "version": "3.7.3"
  }
 },
 "nbformat": 4,
 "nbformat_minor": 2
}
