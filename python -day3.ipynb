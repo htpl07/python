{
 "cells": [
  {
   "cell_type": "markdown",
   "metadata": {},
   "source": [
    "# even numbers"
   ]
  },
  {
   "cell_type": "code",
   "execution_count": 5,
   "metadata": {},
   "outputs": [
    {
     "name": "stdout",
     "output_type": "stream",
     "text": [
      "90\n"
     ]
    }
   ],
   "source": [
    "def printEven(n):\n",
    "    cnt=0;\n",
    "    sum=0;\n",
    "    while(cnt!=n):\n",
    "        if(cnt%2==0):\n",
    "            sum=sum+cnt;\n",
    "        cnt=cnt+1;\n",
    "    return sum;    \n",
    "print(printEven(20));       "
   ]
  },
  {
   "cell_type": "markdown",
   "metadata": {},
   "source": [
    "# factors list of a given number ;  eg: 12---------12346"
   ]
  },
  {
   "cell_type": "code",
   "execution_count": 4,
   "metadata": {},
   "outputs": [
    {
     "name": "stdout",
     "output_type": "stream",
     "text": [
      "1 2 3 4 6 "
     ]
    }
   ],
   "source": [
    "def factorsList(n):\n",
    "    i=1;\n",
    "    while(i!=n):\n",
    "        if(n%i==0):\n",
    "            print(i,end= \" \");\n",
    "        i=i+1;\n",
    "    return;\n",
    "factorsList(12);"
   ]
  },
  {
   "cell_type": "markdown",
   "metadata": {},
   "source": [
    "# List in python\n",
    "### list can be written in python with square brackets and each item in the list is separated by comma operator\n",
    "\n",
    "### list may contain---------int,char,float,and string\n",
    "\n",
    "### eg;-\n",
    "     list1=[1,2,3,4,5]\n",
    "     list2=[\"a\",\"b\",\"c\"]\n",
    "     list3=['maths','science',128.265]"
   ]
  },
  {
   "cell_type": "code",
   "execution_count": 5,
   "metadata": {},
   "outputs": [
    {
     "name": "stdout",
     "output_type": "stream",
     "text": [
      "[1, 2, 3, 4, 5]\n",
      "1\n"
     ]
    }
   ],
   "source": [
    "list1=[1,2,3,4,5];\n",
    "#entire list\n",
    "print(list1);\n",
    "print(list1[0]);"
   ]
  },
  {
   "cell_type": "markdown",
   "metadata": {},
   "source": [
    "# for loop\n",
    "\n",
    "## syntx:\n",
    "\n",
    "###   for  <variableName> in <seq>:\n",
    "       <statements>"
   ]
  },
  {
   "cell_type": "code",
   "execution_count": 6,
   "metadata": {},
   "outputs": [
    {
     "name": "stdout",
     "output_type": "stream",
     "text": [
      "['akhil', 'aravind']\n",
      "aravind\n"
     ]
    }
   ],
   "source": [
    "list2=[\"akhil\",\"aravind\"];\n",
    "print(list2);\n",
    "print(list2[1]);"
   ]
  },
  {
   "cell_type": "code",
   "execution_count": 10,
   "metadata": {},
   "outputs": [
    {
     "name": "stdout",
     "output_type": "stream",
     "text": [
      "1 2 32 4 5 \n",
      "5\n",
      "[1, 2, 32, 4]\n",
      "[32, 4]\n",
      "[1, 2, 32, 4]\n",
      "[1, 2]\n"
     ]
    }
   ],
   "source": [
    "# list example with particular index\n",
    "list1=[1,2,32,4,5];\n",
    "for x in list1:\n",
    "    print(x,end= \" \")\n",
    "print();\n",
    "print(list1[4]);\n",
    "print(list1[0:4]);\n",
    "print(list1[2:4]);\n",
    "print(list1[:4]);\n",
    "print(list1[:2]);"
   ]
  },
  {
   "cell_type": "code",
   "execution_count": 24,
   "metadata": {},
   "outputs": [
    {
     "name": "stdout",
     "output_type": "stream",
     "text": [
      "1 2 3 4 5 6 7 8 9 \n",
      "[2, 3, 4, 5, 6, 7, 8]\n",
      "[3, 4, 5, 6, 7]\n",
      "[1, 3, 5, 7, 9]\n",
      "[1, 5, 9]\n",
      "[1, 6]\n",
      "8\n",
      "9\n"
     ]
    }
   ],
   "source": [
    "list2 = [1,2,3,4,5,6,7,8,9];\n",
    "for x in list2:\n",
    "    print(x,end= \" \")\n",
    "print();\n",
    "print(list2[1:-1]);\n",
    "print(list2[2:-2]);\n",
    "print(list2[::2]);\n",
    "print(list2[::4]);\n",
    "print(list2[::5]);\n",
    "print(list2[-2]);\n",
    "print(list2[-1]);"
   ]
  },
  {
   "cell_type": "code",
   "execution_count": 22,
   "metadata": {},
   "outputs": [
    {
     "name": "stdout",
     "output_type": "stream",
     "text": [
      "1 2 3 4 5 6 7 8 9 \n"
     ]
    }
   ],
   "source": [
    "list2 = [1,2,3,4,5,6,7,8,9];\n",
    "i=0;\n",
    "while(i<len(list2)):\n",
    "    print(list2[i],end= \" \");\n",
    "    i=i+1;\n",
    "print();     "
   ]
  },
  {
   "cell_type": "markdown",
   "metadata": {},
   "source": [
    "# list with range functionm"
   ]
  },
  {
   "cell_type": "code",
   "execution_count": 30,
   "metadata": {},
   "outputs": [
    {
     "name": "stdout",
     "output_type": "stream",
     "text": [
      "['anil', 'adarsh', 'akhil', 1]\n",
      "['anil', 'adarsh', 15, 1]\n",
      "['anil', 'adarsh', 15]\n",
      "['anil', 'gitam', 15]\n",
      "[1, 2, 3, 4, 5]\n",
      "['anil', 'gitam', 15, 1, 2, 3, 4, 5]\n"
     ]
    }
   ],
   "source": [
    "lst1=[\"anil\",\"adarsh\",\"akhil\",1];\n",
    "print(lst1);\n",
    "\n",
    "lst1[2]=15;  # update list\n",
    "print(lst1);\n",
    "\n",
    "del lst1[3];  # del list item\n",
    "print(lst1);\n",
    "\n",
    "lst1[1]=\"gitam\";\n",
    "print(lst1);\n",
    "\n",
    "lst2=[1,2,3,4,5];\n",
    "print(lst2);\n",
    "print(lst1+lst2); # concatenation"
   ]
  },
  {
   "cell_type": "code",
   "execution_count": 32,
   "metadata": {},
   "outputs": [
    {
     "name": "stdout",
     "output_type": "stream",
     "text": [
      "[1, 2, 3, 4]\n",
      "[1, 3, 4]\n",
      "3\n"
     ]
    }
   ],
   "source": [
    "lst1=[1,2,3,4];\n",
    "print(lst1);\n",
    "del lst1[1];\n",
    "print(lst1);\n",
    "print(len(lst1));"
   ]
  },
  {
   "cell_type": "markdown",
   "metadata": {},
   "source": [
    "# list method:\n",
    "##  1.append:-\n",
    "### this method appends a passed object into the existing list"
   ]
  },
  {
   "cell_type": "code",
   "execution_count": 34,
   "metadata": {},
   "outputs": [
    {
     "name": "stdout",
     "output_type": "stream",
     "text": [
      "[1, 2, 3, 4, 5]\n",
      "[1, 2, 3, 4, 5, 15]\n"
     ]
    }
   ],
   "source": [
    "lst2=[1,2,3,4,5];\n",
    "print(lst2);\n",
    "lst2.append(15);\n",
    "print(lst2);"
   ]
  },
  {
   "cell_type": "markdown",
   "metadata": {},
   "source": [
    "## 2.count\n",
    "### this method returns the count of tyhe object how many times in the list"
   ]
  },
  {
   "cell_type": "code",
   "execution_count": 45,
   "metadata": {},
   "outputs": [
    {
     "name": "stdout",
     "output_type": "stream",
     "text": [
      "[1, 2, 3, 4, 5]\n",
      "[1, 2, 3, 4, 5, 15]\n"
     ]
    },
    {
     "ename": "TypeError",
     "evalue": "'int' object is not subscriptable",
     "output_type": "error",
     "traceback": [
      "\u001b[1;31m---------------------------------------------------------------------------\u001b[0m",
      "\u001b[1;31mTypeError\u001b[0m                                 Traceback (most recent call last)",
      "\u001b[1;32m<ipython-input-45-ea1eaf774bd4>\u001b[0m in \u001b[0;36m<module>\u001b[1;34m\u001b[0m\n\u001b[0;32m      8\u001b[0m \u001b[0mlst2\u001b[0m\u001b[1;33m.\u001b[0m\u001b[0mappend\u001b[0m\u001b[1;33m(\u001b[0m\u001b[1;33m[\u001b[0m\u001b[1;36m0.1\u001b[0m\u001b[1;33m,\u001b[0m\u001b[1;36m0.2\u001b[0m\u001b[1;33m]\u001b[0m\u001b[1;33m)\u001b[0m\u001b[1;33m;\u001b[0m\u001b[1;33m\u001b[0m\u001b[1;33m\u001b[0m\u001b[0m\n\u001b[0;32m      9\u001b[0m \u001b[0mlst2\u001b[0m\u001b[1;33m.\u001b[0m\u001b[0mappend\u001b[0m\u001b[1;33m(\u001b[0m\u001b[1;33m[\u001b[0m\u001b[1;36m4\u001b[0m\u001b[1;33m]\u001b[0m\u001b[1;33m)\u001b[0m\u001b[1;33m;\u001b[0m\u001b[1;33m\u001b[0m\u001b[1;33m\u001b[0m\u001b[0m\n\u001b[1;32m---> 10\u001b[1;33m \u001b[0mlst2\u001b[0m\u001b[1;33m[\u001b[0m\u001b[1;36m9\u001b[0m\u001b[1;33m[\u001b[0m\u001b[1;36m1\u001b[0m\u001b[1;33m]\u001b[0m\u001b[1;33m]\u001b[0m\u001b[1;33m=\u001b[0m\u001b[1;36m5\u001b[0m\u001b[1;33m;\u001b[0m\u001b[1;33m\u001b[0m\u001b[1;33m\u001b[0m\u001b[0m\n\u001b[0m\u001b[0;32m     11\u001b[0m \u001b[0mprint\u001b[0m\u001b[1;33m(\u001b[0m\u001b[0mlst2\u001b[0m\u001b[1;33m)\u001b[0m\u001b[1;33m;\u001b[0m\u001b[1;33m\u001b[0m\u001b[1;33m\u001b[0m\u001b[0m\n\u001b[0;32m     12\u001b[0m \u001b[0mprint\u001b[0m\u001b[1;33m(\u001b[0m\u001b[0mlst2\u001b[0m\u001b[1;33m.\u001b[0m\u001b[0mcount\u001b[0m\u001b[1;33m(\u001b[0m\u001b[1;36m1\u001b[0m\u001b[1;33m)\u001b[0m\u001b[1;33m)\u001b[0m\u001b[1;33m;\u001b[0m\u001b[1;33m\u001b[0m\u001b[1;33m\u001b[0m\u001b[0m\n",
      "\u001b[1;31mTypeError\u001b[0m: 'int' object is not subscriptable"
     ]
    }
   ],
   "source": [
    "lst2=[1,2,3,4,5];\n",
    "print(lst2);\n",
    "lst2.append(15);\n",
    "print(lst2);\n",
    "lst2.append(21);\n",
    "lst2.append(14);\n",
    "lst2.append(36);\n",
    "lst2.append([0.1,0.2]);\n",
    "lst2.append([4]);\n",
    "lst2[9[1]]=5;\n",
    "print(lst2);\n",
    "print(lst2.count(1));\n",
    "print(lst2.count(3));\n",
    "print(lst2.count(20));"
   ]
  },
  {
   "cell_type": "markdown",
   "metadata": {},
   "source": [
    "# list with range() function\n",
    "### range(number):\n",
    "### 0 to number"
   ]
  },
  {
   "cell_type": "code",
   "execution_count": 52,
   "metadata": {},
   "outputs": [
    {
     "name": "stdout",
     "output_type": "stream",
     "text": [
      "['gitam', 'python', 'raptor', 1, 5, 93]\n",
      "2\n",
      "5\n",
      "['gitam', 'python', 2019, 'raptor', 1, 5, 93]\n",
      "7\n"
     ]
    }
   ],
   "source": [
    "list1=[\"gitam\",\"python\",'raptor',1,5,93];\n",
    "print(list1)\n",
    "print(list1.index('raptor'))\n",
    "print(list1.index(93))\n",
    "list1.insert(2,2019)\n",
    "print(list1)\n",
    "print(len(list1))"
   ]
  },
  {
   "cell_type": "markdown",
   "metadata": {},
   "source": [
    "## 3. remove\n",
    "\n",
    "### removes the passed object from left side direction"
   ]
  },
  {
   "cell_type": "code",
   "execution_count": 55,
   "metadata": {},
   "outputs": [
    {
     "name": "stdout",
     "output_type": "stream",
     "text": [
      "['gitam', 'python', 'raptor', 1, 5, 'python', 'python', 93]\n",
      "['gitam', 'raptor', 1, 5, 'python', 'python', 93]\n",
      "['gitam', 'raptor', 1, 5, 'python', 93]\n"
     ]
    }
   ],
   "source": [
    "list1=[\"gitam\",\"python\",'raptor',1,5,\"python\",\"python\",93];\n",
    "print(list1)\n",
    "list1.remove(\"python\")\n",
    "print(list1)\n",
    "list1.remove(\"python\")\n",
    "print(list1)"
   ]
  },
  {
   "cell_type": "markdown",
   "metadata": {},
   "source": [
    "## 4.reverse\n",
    "\n",
    "### the reverse() reverses the list"
   ]
  },
  {
   "cell_type": "code",
   "execution_count": 56,
   "metadata": {},
   "outputs": [
    {
     "name": "stdout",
     "output_type": "stream",
     "text": [
      "['gitam', 'python', 'raptor', 1, 5, 'python', 'python', 93]\n",
      "['gitam', 'raptor', 1, 5, 'python', 'python', 93]\n",
      "['gitam', 'raptor', 1, 5, 'python', 93]\n",
      "[93, 'python', 5, 1, 'raptor', 'gitam']\n"
     ]
    }
   ],
   "source": [
    "list1=[\"gitam\",\"python\",'raptor',1,5,\"python\",\"python\",93];\n",
    "print(list1)\n",
    "list1.remove(\"python\")\n",
    "print(list1)\n",
    "list1.remove(\"python\")\n",
    "print(list1)\n",
    "list1.reverse()\n",
    "print(list1)"
   ]
  },
  {
   "cell_type": "markdown",
   "metadata": {},
   "source": [
    "# data structures\n",
    "\n",
    "#### searching the data\n",
    "     ##### linear search\n",
    "            --can be applied on sorted and unsorted list and unique list/duplicate list\n",
    "     ##### binary search\n",
    "#### sort the data\n",
    "#### store the data"
   ]
  },
  {
   "cell_type": "code",
   "execution_count": 64,
   "metadata": {},
   "outputs": [
    {
     "name": "stdout",
     "output_type": "stream",
     "text": [
      "target item is not found\n",
      "target item is found\n"
     ]
    }
   ],
   "source": [
    "def linearSearch(a,tarItem):\n",
    "    i=0;\n",
    "    flag=0;\n",
    "    for i in range(len(a)):\n",
    "        if(a[i]==tarItem):\n",
    "           flag=1;\n",
    "           break;\n",
    "    if(flag!=0):\n",
    "           print(\"target item is found\")\n",
    "    else:\n",
    "           print(\"target item is not found\")\n",
    "a=[1,2,25,98,41,62] \n",
    "linearSearch(a,6)\n",
    "linearSearch(a,98)"
   ]
  },
  {
   "cell_type": "code",
   "execution_count": 70,
   "metadata": {},
   "outputs": [
    {
     "name": "stdout",
     "output_type": "stream",
     "text": [
      "0\n",
      "2\n"
     ]
    }
   ],
   "source": [
    "def linearSearchDuplicate(a,tarItem):\n",
    "    i=0;\n",
    "    flag=0;\n",
    "    for i in range(len(a)):\n",
    "        if(a[i]==tarItem):\n",
    "            flag=flag+1;\n",
    "    print(flag)\n",
    "a=[1,2,25,98,41,62,98] \n",
    "linearSearchDuplicate(a,6)\n",
    "linearSearchDuplicate(a,98)"
   ]
  },
  {
   "cell_type": "markdown",
   "metadata": {},
   "source": [
    "#  input:list  ;output:indexes of target item\n",
    "## eg--- 1,2,9,6,5,15,12,5-------linearExample(a,5)---1,4,7"
   ]
  },
  {
   "cell_type": "code",
   "execution_count": 5,
   "metadata": {},
   "outputs": [
    {
     "name": "stdout",
     "output_type": "stream",
     "text": [
      "4 7 2\n"
     ]
    }
   ],
   "source": [
    "def linearExample1(a,tarItem):\n",
    "    flag=0;\n",
    "    for i in range(len(a)):\n",
    "        if(a[i]==tarItem):\n",
    "            print(i,end= \" \");\n",
    "            flag=flag+1;\n",
    "    print(flag)\n",
    "a=[1,2,9,6,5,15,12,5]\n",
    "linearExample1(a,5)"
   ]
  },
  {
   "cell_type": "code",
   "execution_count": 10,
   "metadata": {},
   "outputs": [
    {
     "name": "stdout",
     "output_type": "stream",
     "text": [
      "!! !!!!! !!!!!!!! "
     ]
    }
   ],
   "source": [
    "def linearExample2(a,tarItem):\n",
    "   \n",
    "    for i in range(len(a)):\n",
    "        if(a[i]==tarItem):\n",
    "            print(\"!\"*(i+1),end= \" \")\n",
    "a=[1,5,9,6,5,15,12,5]\n",
    "linearExample2(a,5)            "
   ]
  },
  {
   "cell_type": "code",
   "execution_count": 16,
   "metadata": {},
   "outputs": [
    {
     "name": "stdout",
     "output_type": "stream",
     "text": [
      "$  $ $ $ $  $ $ $ $ $ $ $  "
     ]
    }
   ],
   "source": [
    "def linearExample2(a,tarItem):\n",
    "   \n",
    "    for i in range(len(a)):\n",
    "        if(a[i]==tarItem):\n",
    "            j=0\n",
    "            while(j!=i):\n",
    "                 print(\"$\",end= \" \")\n",
    "                 j=j+1\n",
    "            print(end=\" \")\n",
    "a=[1,5,9,6,5,15,12,5]\n",
    "linearExample2(a,5)            "
   ]
  },
  {
   "cell_type": "code",
   "execution_count": 17,
   "metadata": {},
   "outputs": [
    {
     "name": "stdout",
     "output_type": "stream",
     "text": [
      "@  @ @ @ @  @ @ @ @ @ @ @  "
     ]
    }
   ],
   "source": [
    "def linearExample2(a,tarItem):\n",
    "   \n",
    "    for i in range(len(a)):\n",
    "        if(a[i]==tarItem):\n",
    "            j=0\n",
    "            while(j!=i):\n",
    "                 print(\"@\",end= \" \")\n",
    "                 j=j+1\n",
    "            print(end=\" \")\n",
    "a=[1,5,9,6,5,15,12,5]\n",
    "linearExample2(a,5)            "
   ]
  },
  {
   "cell_type": "code",
   "execution_count": 18,
   "metadata": {},
   "outputs": [
    {
     "name": "stdout",
     "output_type": "stream",
     "text": [
      "#  # # # #  # # # # # # #  "
     ]
    }
   ],
   "source": [
    "def linearExample2(a,tarItem):\n",
    "   \n",
    "    for i in range(len(a)):\n",
    "        if(a[i]==tarItem):\n",
    "            j=0\n",
    "            while(j!=i):\n",
    "                 print(\"#\",end= \" \")\n",
    "                 j=j+1\n",
    "            print(end=\" \")\n",
    "a=[1,5,9,6,5,15,12,5]\n",
    "linearExample2(a,5)            "
   ]
  },
  {
   "cell_type": "markdown",
   "metadata": {},
   "source": [
    "# input:list  ;output:as given  ;eg:  perfectly multiple of 3 &5 15,12,2,9,45,18,36-------15+45--60\n"
   ]
  },
  {
   "cell_type": "code",
   "execution_count": 27,
   "metadata": {},
   "outputs": [
    {
     "data": {
      "text/plain": [
       "60"
      ]
     },
     "execution_count": 27,
     "metadata": {},
     "output_type": "execute_result"
    }
   ],
   "source": [
    "def linearExample3(a):\n",
    "    sum=0\n",
    "    for i in range(len(a)):\n",
    "        if(a[i]%3==0 and a[i]%5==0):\n",
    "            \n",
    "            sum=sum+a[i];\n",
    "    return(sum);\n",
    "a=[15,12,2,9,45,18,36]\n",
    "linearExample3(a)"
   ]
  },
  {
   "cell_type": "markdown",
   "metadata": {},
   "source": [
    "# input:1 2 3 4 5  ;output:1 3 8 15 5"
   ]
  },
  {
   "cell_type": "code",
   "execution_count": 30,
   "metadata": {},
   "outputs": [
    {
     "name": "stdout",
     "output_type": "stream",
     "text": [
      "1\n",
      "3\n",
      "8\n",
      "15\n",
      "5\n"
     ]
    }
   ],
   "source": [
    "def linearExample4(a):\n",
    "    for i in range(len(a)):\n",
    "        if(i==len(a)-1 or i==0):\n",
    "            print(a[i]);\n",
    "        else:\n",
    "            print(a[i-1]*a[i+1]);\n",
    "a=[1,2,3,4,5];\n",
    "linearExample4(a)"
   ]
  },
  {
   "cell_type": "markdown",
   "metadata": {},
   "source": [
    "# input:1 6 9 4 16 19 22    ;output: 1 9 19 22    "
   ]
  },
  {
   "cell_type": "code",
   "execution_count": 31,
   "metadata": {},
   "outputs": [
    {
     "name": "stdout",
     "output_type": "stream",
     "text": [
      "1\n",
      "9\n",
      "19\n",
      "22\n"
     ]
    }
   ],
   "source": [
    "def linearExample5(a):\n",
    "    for i in range(len(a)):\n",
    "        if(i==len(a)-1 or i==0):\n",
    "            print(a[i]);\n",
    "        elif(a[i-1]%2==0 and a[i+1]%2==0):\n",
    "            print(a[i]);\n",
    "a=[1,6,9,4,16,19,22];\n",
    "linearExample5(a);"
   ]
  },
  {
   "cell_type": "markdown",
   "metadata": {},
   "source": [
    "# input: 14569 ; output:1,4,5,6,9"
   ]
  },
  {
   "cell_type": "code",
   "execution_count": 35,
   "metadata": {},
   "outputs": [
    {
     "name": "stdout",
     "output_type": "stream",
     "text": [
      "enter the number14569\n",
      "[1, 4, 5, 6, 9]\n"
     ]
    }
   ],
   "source": [
    "def numberToListConversion(n):\n",
    "    lst=[]\n",
    "    while(n!=0):\n",
    "        r=n%10\n",
    "        lst.append(r)\n",
    "        n=n//10\n",
    "    lst.reverse()    \n",
    "    print(lst)    \n",
    "n=int(input(\"enter the number\"))    \n",
    "numberToListConversion(n)    "
   ]
  },
  {
   "cell_type": "markdown",
   "metadata": {},
   "source": [
    "# 1.input: [1,4,5,6,9]   ;output:14569\n",
    "# 2.input:[1,4,5,6,9]    ;output:46  (even numbers)\n",
    "# 3.input:14569           ;output:[4,6]"
   ]
  },
  {
   "cell_type": "code",
   "execution_count": 38,
   "metadata": {},
   "outputs": [
    {
     "name": "stdout",
     "output_type": "stream",
     "text": [
      "14569"
     ]
    }
   ],
   "source": [
    "def listToNumberConversion(a):\n",
    "    for i in range(len(a)):\n",
    "        print(a[i],end= \"\");\n",
    "a=[1,4,5,6,9];    \n",
    "listToNumberConversion(a)    "
   ]
  },
  {
   "cell_type": "code",
   "execution_count": 39,
   "metadata": {},
   "outputs": [
    {
     "name": "stdout",
     "output_type": "stream",
     "text": [
      "46"
     ]
    }
   ],
   "source": [
    "def listToNumberConversion1(a):\n",
    "    for i in range(len(a)):\n",
    "        if(a[i]%2==0):\n",
    "            print(a[i],end= \"\");\n",
    "a=[1,4,5,6,9];    \n",
    "listToNumberConversion1(a);                \n",
    "            \n",
    "    "
   ]
  },
  {
   "cell_type": "code",
   "execution_count": 1,
   "metadata": {},
   "outputs": [
    {
     "name": "stdout",
     "output_type": "stream",
     "text": [
      "enter the number14569\n",
      "[4, 6]\n"
     ]
    }
   ],
   "source": [
    "def numberToListConversion2(n):\n",
    "    list=[]\n",
    "    while(n!=0):\n",
    "        r=n%10;\n",
    "        if(r%2==0):\n",
    "            list.append(r)\n",
    "        n=n//10\n",
    "    list.reverse()\n",
    "   \n",
    "    print(list);    \n",
    "n=int(input(\"enter the number\"))    \n",
    "numberToListConversion2(n)    "
   ]
  },
  {
   "cell_type": "markdown",
   "metadata": {},
   "source": [
    "# 4. input: [1,2,3,4,5]  ; output:[1,4,3,16,5]\n",
    "# 5. input:[15,19,12,16,4]    ;output:[15,34,31,28,20]"
   ]
  },
  {
   "cell_type": "code",
   "execution_count": 9,
   "metadata": {},
   "outputs": [
    {
     "name": "stdout",
     "output_type": "stream",
     "text": [
      "[1, 4, 3, 16, 5]\n"
     ]
    }
   ],
   "source": [
    "def listP1(a):\n",
    "    list=[]\n",
    "    for i in range(len(a)):\n",
    "        if(a[i]%2==0):\n",
    "            \n",
    "            list.append(a[i]**2);\n",
    "        else:\n",
    "            list.append(a[i]);\n",
    "    print(list);    \n",
    "            \n",
    "a=[1,2,3,4,5];\n",
    "listP1(a)"
   ]
  },
  {
   "cell_type": "code",
   "execution_count": 10,
   "metadata": {},
   "outputs": [
    {
     "name": "stdout",
     "output_type": "stream",
     "text": [
      "[15, 34, 31, 28, 20]\n"
     ]
    }
   ],
   "source": [
    "def listM1(a):\n",
    "    list=[]\n",
    "    for i in range(len(a)):\n",
    "        if(i==0):\n",
    "            list.append(a[i]);\n",
    "        else:\n",
    "            list.append(a[i-1]+a[i]);\n",
    "    print(list)        \n",
    "a=[15,19,12,16,4];\n",
    "listM1(a)"
   ]
  },
  {
   "cell_type": "code",
   "execution_count": null,
   "metadata": {},
   "outputs": [],
   "source": []
  }
 ],
 "metadata": {
  "kernelspec": {
   "display_name": "Python 3",
   "language": "python",
   "name": "python3"
  },
  "language_info": {
   "codemirror_mode": {
    "name": "ipython",
    "version": 3
   },
   "file_extension": ".py",
   "mimetype": "text/x-python",
   "name": "python",
   "nbconvert_exporter": "python",
   "pygments_lexer": "ipython3",
   "version": "3.7.3"
  }
 },
 "nbformat": 4,
 "nbformat_minor": 2
}
