{
 "cells": [
  {
   "cell_type": "markdown",
   "metadata": {},
   "source": [
    "# File handling in python \n",
    "## FIle: Document containing information residing on the permanent storage t ypes-----Doc,Pdf,text, Csv files and etc\n",
    "## FIle i /o:input and output\n",
    "                       keyboard is input\n",
    "                       screen as output\n",
    "                       \n",
    "                       open():open a file               open(filename,\"Mode of the file\")\n",
    "                       close():close the file\n",
    "                       \"r\":opens file for reading\n",
    "                       \"w\":opens the file writing\n",
    "                              if the file name is not present\n",
    "                              it creates the file and writes some data input\n",
    " ### append mode\"a\" also creates file if the file is not exists     ;if the file already exists then it returns at the end of the file                            "
   ]
  },
  {
   "cell_type": "code",
   "execution_count": 1,
   "metadata": {},
   "outputs": [
    {
     "name": "stdout",
     "output_type": "stream",
     "text": [
      "file is created successfully and the data is written\n"
     ]
    }
   ],
   "source": [
    "#function to create a file and write some data\n",
    "def createfile(filename):\n",
    "    f=open(filename,\"w\")\n",
    "    for i in range(10):\n",
    "        f.write(\"this is %d line\\n\" % i)\n",
    "    print(\"file is created successfully and the data is written\")    \n",
    "    f.close()\n",
    "    return\n",
    "createfile(\"file1.txt\")   "
   ]
  },
  {
   "cell_type": "code",
   "execution_count": 10,
   "metadata": {},
   "outputs": [
    {
     "name": "stdout",
     "output_type": "stream",
     "text": [
      "this is 0 line\n",
      "this is 1 line\n",
      "this is 2 line\n",
      "this is 3 line\n",
      "this is 4 line\n",
      "this is 5 line\n",
      "this is 6 line\n",
      "this is 7 line\n",
      "this is 8 line\n",
      "this is 9 line\n",
      "\n"
     ]
    }
   ],
   "source": [
    "#function to read the file data\n",
    "def readfile(filename):\n",
    "    f=open(filename,\"r\")\n",
    "    if f.mode==\"r\":\n",
    "        x=f.read()\n",
    "        print(x)\n",
    "    f.close() \n",
    "    return\n",
    "readfile(\"file1.txt\")    "
   ]
  },
  {
   "cell_type": "code",
   "execution_count": 12,
   "metadata": {},
   "outputs": [
    {
     "name": "stdout",
     "output_type": "stream",
     "text": [
      "file is created successfully and the data is written\n"
     ]
    }
   ],
   "source": [
    "def createfile(filename):\n",
    "    f=open(filename,\"w\")\n",
    "    for i in range(10):\n",
    "        f.write(\"this is %d line\\n\" % i)\n",
    "    print(\"file is created successfully and the data is written\")    \n",
    "    f.close()\n",
    "    return\n",
    "createfile(\"file1.txt\")   "
   ]
  },
  {
   "cell_type": "code",
   "execution_count": 13,
   "metadata": {},
   "outputs": [
    {
     "name": "stdout",
     "output_type": "stream",
     "text": [
      "file is created successfully and the data is written\n"
     ]
    }
   ],
   "source": [
    "def createfile(filename):\n",
    "    f=open(filename,\"a\")\n",
    "    for i in range(10):\n",
    "        f.write(\"this is %d line\\n\" % i)\n",
    "    print(\"file is created successfully and the data is written\")    \n",
    "    f.close()\n",
    "    return\n",
    "createfile(\"file1.txt\")   "
   ]
  },
  {
   "cell_type": "code",
   "execution_count": 16,
   "metadata": {},
   "outputs": [
    {
     "name": "stdout",
     "output_type": "stream",
     "text": [
      "Successfully created the directory /desktop \n"
     ]
    }
   ],
   "source": [
    "import os\n",
    "\n",
    "# define the name of the directory to be created\n",
    "path = \"/desktop\"\n",
    "\n",
    "try:  \n",
    "    os.mkdir(path)\n",
    "except OSError:  \n",
    "    print (\"Creation of the directory %s failed\" % path)\n",
    "else:  \n",
    "    print (\"Successfully created the directory %s \" % path)"
   ]
  },
  {
   "cell_type": "code",
   "execution_count": 19,
   "metadata": {},
   "outputs": [],
   "source": [
    "#data to append\n",
    "#function to append data to existing file\n",
    "def appendData(filename):\n",
    "    f=open(filename,\"a\")\n",
    "    f.write(\"new line 1\\n\")\n",
    "    f.write(\"new line 2\\n\")\n",
    "    f.close()\n",
    "    return\n",
    "appendData(\"file1.txt\")"
   ]
  },
  {
   "cell_type": "code",
   "execution_count": 21,
   "metadata": {},
   "outputs": [
    {
     "data": {
      "text/plain": [
       "0"
      ]
     },
     "execution_count": 21,
     "metadata": {},
     "output_type": "execute_result"
    }
   ],
   "source": [
    "#word count using file i/o python\n",
    "def dataAnalysisWordCount(filename,word):\n",
    "    f=open(filename,\"r\")\n",
    "    if f.mode==\"r\":\n",
    "        x=f.read()\n",
    "        lst=x.split()\n",
    "    cnt=lst.count(word)\n",
    "    return cnt\n",
    "dataAnalysisWordCount(\"file1.txt\",\"rest\")"
   ]
  },
  {
   "cell_type": "code",
   "execution_count": 24,
   "metadata": {},
   "outputs": [
    {
     "data": {
      "text/plain": [
       "0"
      ]
     },
     "execution_count": 24,
     "metadata": {},
     "output_type": "execute_result"
    }
   ],
   "source": [
    "# function to count no.of characters in the list\n",
    "def dataAnalysisCharCount(filename,character):\n",
    "    f=open(filename,\"r\")\n",
    "    if f.mode==\"r\":\n",
    "        x=f.read()\n",
    "        lst=x.split()\n",
    "        cnt=lst.count(character)\n",
    "    return cnt    \n",
    "dataAnalysisCharCount(\"file1.txt\",\"!\")"
   ]
  },
  {
   "cell_type": "code",
   "execution_count": 26,
   "metadata": {},
   "outputs": [
    {
     "name": "stdout",
     "output_type": "stream",
     "text": [
      "344\n"
     ]
    }
   ],
   "source": [
    "# function to count no.of characters in the list\n",
    "def dataAnalysisCharCount(filename):\n",
    "    f=open(filename,\"r\")\n",
    "    if f.mode==\"r\":\n",
    "        x=f.read()\n",
    "        lst=list(x)\n",
    "    return len(lst)\n",
    "print(dataAnalysisCharCount(\"file1.txt\"))"
   ]
  },
  {
   "cell_type": "code",
   "execution_count": 29,
   "metadata": {},
   "outputs": [
    {
     "data": {
      "text/plain": [
       "1"
      ]
     },
     "execution_count": 29,
     "metadata": {},
     "output_type": "execute_result"
    }
   ],
   "source": [
    "#function to count the uppercase character from the given file\n",
    "def countUpper(filename):\n",
    "    f=open(filename,\"r\")\n",
    "    cnt=0\n",
    "    if f.mode==\"r\":\n",
    "        x=f.read()\n",
    "        lst=list(x)\n",
    "        for i in lst:\n",
    "            if(i.isupper()):\n",
    "                cnt=cnt+1\n",
    "    return cnt\n",
    "countUpper(\"file1.txt\")"
   ]
  },
  {
   "cell_type": "code",
   "execution_count": 39,
   "metadata": {},
   "outputs": [
    {
     "name": "stdout",
     "output_type": "stream",
     "text": [
      "24\n"
     ]
    }
   ],
   "source": [
    "# function to count no.of lines in given file\n",
    "def countLines(filename):\n",
    "    f=open(filename,\"r\")\n",
    "    cnt=0\n",
    "    if f.mode==\"r\":\n",
    "        x=f.readlines()\n",
    "        print(len(x))\n",
    "        #lst=list(x)\n",
    "        #cnt = len(open(thefilepath).readlines( ))\n",
    "    #return cnt\n",
    "countLines(\"file1.txt\")"
   ]
  },
  {
   "cell_type": "markdown",
   "metadata": {},
   "source": [
    "# regular exxpression\n",
    "\n",
    "\n",
    "#^[6-9][0-9]{9}$-----re for indian mobile number"
   ]
  },
  {
   "cell_type": "code",
   "execution_count": 2,
   "metadata": {},
   "outputs": [],
   "source": [
    "# regular expressions for india mobile number\n",
    "# validation for email id username@domainName.Extension\n",
    "# First Digit [6-9][0-9]\n",
    "# first digit 0 second digit [6-9]\n",
    "# ^[0][6-9][0-9]{9}$ --- 09563842695\n",
    "# [+][9][1][6-9][0-9]{9}$--------+919563842695"
   ]
  },
  {
   "cell_type": "code",
   "execution_count": 7,
   "metadata": {},
   "outputs": [
    {
     "name": "stdout",
     "output_type": "stream",
     "text": [
      "True\n",
      "True\n",
      "False\n",
      "False\n"
     ]
    }
   ],
   "source": [
    "import re\n",
    "def phoneNumberValidate(phone):\n",
    "    pattern='^[6-9][0-9]{9}$'\n",
    "    phone=str(phone)\n",
    "    if re.match(pattern,phone):\n",
    "        return True\n",
    "    return False\n",
    "print(phoneNumberValidate(9440165126))\n",
    "print(phoneNumberValidate(9100256986))\n",
    "print(phoneNumberValidate(910026))\n",
    "print(phoneNumberValidate(986))"
   ]
  },
  {
   "cell_type": "code",
   "execution_count": 10,
   "metadata": {},
   "outputs": [
    {
     "name": "stdout",
     "output_type": "stream",
     "text": [
      "True\n",
      "True\n"
     ]
    }
   ],
   "source": [
    "import re\n",
    "def phoneNumberValidate(phone):\n",
    "    pattern='^[6-9][0-9]{9}$|^[0][6-9][0-9]{9}$|[+][9][1][6-9][0-9]{9}$'\n",
    "    phone=str(phone)\n",
    "    if re.match(pattern,phone):\n",
    "        return True\n",
    "    return False\n",
    "print(phoneNumberValidate(\"09563842698\"))\n",
    "print(phoneNumberValidate(\"+919563842695\"))"
   ]
  },
  {
   "cell_type": "code",
   "execution_count": 11,
   "metadata": {},
   "outputs": [],
   "source": [
    "# RE--validation of roll number\n",
    "### 152U1A0560"
   ]
  },
  {
   "cell_type": "code",
   "execution_count": 13,
   "metadata": {},
   "outputs": [
    {
     "name": "stdout",
     "output_type": "stream",
     "text": [
      "True\n",
      "False\n"
     ]
    }
   ],
   "source": [
    "import re\n",
    "def validateRollNumber(number):\n",
    "    number=str(number)\n",
    "    pattern=\"^[1][5][2][U][1][A][0][1-9][0-6][0-9]$\";\n",
    "    if re.match(pattern,number):\n",
    "        return True\n",
    "    return False\n",
    "print(validateRollNumber(\"152U1A0555\"))\n",
    "print(validateRollNumber(\"152U1A0485\"))"
   ]
  },
  {
   "cell_type": "code",
   "execution_count": null,
   "metadata": {},
   "outputs": [],
   "source": [
    "# emailid validation:Usernname@DomainName.extension\n",
    "# username:\n",
    "#          *length will be:[6-15]\n",
    "#          *no special char apart frm '_'\n",
    "#          *should not begin nd end with _\n",
    "#          * character set: all digits and lower case alphabets _\n",
    "# Domain name:\n",
    "#             *lenth :[3,18]\n",
    "#             *no spl characterss\n",
    "#             *characters set: all digits and lower case alphabets\n",
    "# Extension:\n",
    "#           *Lenth :[2,4]\n",
    "#           *no spl chars\n",
    "#           *character set: all lower case characters"
   ]
  },
  {
   "cell_type": "code",
   "execution_count": 16,
   "metadata": {},
   "outputs": [
    {
     "name": "stdout",
     "output_type": "stream",
     "text": [
      "True\n",
      "False\n"
     ]
    }
   ],
   "source": [
    "def validateEmailID(email):\n",
    "    pattern=\"^[0-9a-z][0-9a-z_.]{4,13}[0-9a-z][@][a-z0-9]{3,18}[.][a-z]{2,4}$\"\n",
    "    if re.match(pattern,email):\n",
    "        return True\n",
    "    return False\n",
    "print(validateEmailID(\"harshu.2001@gmail.com\"))\n",
    "print(validateEmailID(\"$harshu.2001@gmail.com\"))"
   ]
  },
  {
   "cell_type": "code",
   "execution_count": 1,
   "metadata": {},
   "outputs": [],
   "source": [
    "# regular expression----password\n",
    "# parameters--{6-15}\n",
    "# accept lower case, upper case, spl symbols (@,$,#,!)"
   ]
  },
  {
   "cell_type": "code",
   "execution_count": 5,
   "metadata": {},
   "outputs": [
    {
     "name": "stdout",
     "output_type": "stream",
     "text": [
      "False\n",
      "False\n"
     ]
    }
   ],
   "source": [
    "import re\n",
    "def validatePassword(password):\n",
    "    pattern=\"^[a-zA-Z0-9!@#$]{6-15}$\"\n",
    "    if re.match(pattern,password):\n",
    "        return True\n",
    "    return False\n",
    "print(validatePassword(\"harshu@1#2L3\"))\n",
    "print(validatePassword(\"harshitha!\"))"
   ]
  },
  {
   "cell_type": "markdown",
   "metadata": {},
   "source": [
    "# assignments\n",
    "## 1.file on virtual machine or local machine\n",
    "## 2.need to write the data to the file(emailid,mobilenumber)\n",
    "## 3.need to return the count of lowercase characters\n",
    "## 4.need to return the count of digits\n",
    "## 5.count of special characters\n",
    "## 6. create file with these parameters name,emailid,mobilenummber.......validate the email  id ......validate the mobile number\n"
   ]
  },
  {
   "cell_type": "code",
   "execution_count": 11,
   "metadata": {},
   "outputs": [
    {
     "ename": "IndentationError",
     "evalue": "expected an indented block (<ipython-input-11-b19e647a6d95>, line 6)",
     "output_type": "error",
     "traceback": [
      "\u001b[1;36m  File \u001b[1;32m\"<ipython-input-11-b19e647a6d95>\"\u001b[1;36m, line \u001b[1;32m6\u001b[0m\n\u001b[1;33m    print(\"harshu.2001@gmail.com\")\u001b[0m\n\u001b[1;37m        ^\u001b[0m\n\u001b[1;31mIndentationError\u001b[0m\u001b[1;31m:\u001b[0m expected an indented block\n"
     ]
    }
   ],
   "source": [
    "import re\n",
    "def createfile(filename):\n",
    "    f=open(filename,\"w\")\n",
    "    pattern=\"^[0-9a-z][0-9a-z_.]{4,13}[0-9a-z][@][a-z0-9]{3,18}[.][a-z]{2,4}$\"\n",
    "    if re.match(pattern,email):\n",
    "    print(\"harshu.2001@gmail.com\")\n",
    "    f.close()\n",
    "    return\n",
    "createfile(\"file1.txt\")   "
   ]
  },
  {
   "cell_type": "code",
   "execution_count": 21,
   "metadata": {},
   "outputs": [
    {
     "name": "stdout",
     "output_type": "stream",
     "text": [
      "file is created successfully and the data is written\n"
     ]
    },
    {
     "data": {
      "text/plain": [
       "(23900, 3440, 0, 5640)"
      ]
     },
     "execution_count": 21,
     "metadata": {},
     "output_type": "execute_result"
    }
   ],
   "source": [
    "def createfile(filename):\n",
    "    f=open(filename,\"a\")\n",
    "    for i in range(200):\n",
    "        f.write(\"python trainingday %d \\n\" % i)\n",
    "    print(\"file is created successfully and the data is written\")  \n",
    "    f=open(filename,\"r\")\n",
    "    cnt=0\n",
    "    count=0\n",
    "    upper=0\n",
    "    spl=0\n",
    "    if f.mode==\"r\":\n",
    "        x=f.read()\n",
    "        lst=list(x)\n",
    "        for i in lst:\n",
    "            if(i.islower()):\n",
    "                cnt=cnt+1\n",
    "            elif(i.isnumeric()):\n",
    "                count=count+1\n",
    "            elif(i.isupper()):\n",
    "                upper=upper+1\n",
    "            else:\n",
    "                spl=spl+1\n",
    "    return(cnt,count,upper,spl) \n",
    "    return\n",
    "createfile(\"file1.txt\")     "
   ]
  },
  {
   "cell_type": "code",
   "execution_count": 35,
   "metadata": {},
   "outputs": [],
   "source": [
    "import re\n",
    "def createfile(filename):\n",
    "    f=open(filename,\"w\")\n",
    "    email=\"harshu.2001@gmail.com\"\n",
    "    mobile=\"9440165126\"\n",
    "    pattern=\"^[0-9a-z][0-9a-z_.]{4,13}[0-9a-z][@][a-z0-9]{3,18}[.][a-z]{2,4}$\"\n",
    "    if re.match(pattern,email):\n",
    "        f.write(email)\n",
    "    pattern='^[6-9][0-9]{9}$|^[0][6-9][0-9]{9}$|[+][9][1][6-9][0-9]{9}$'\n",
    "    if re.match(pattern,mobile):  \n",
    "        f.write(mobile)\n",
    "        #return(\"harshu.2001@gmail.com\")\n",
    "    return\n",
    "createfile(\"file2.txt\")     "
   ]
  },
  {
   "cell_type": "code",
   "execution_count": null,
   "metadata": {},
   "outputs": [],
   "source": []
  }
 ],
 "metadata": {
  "kernelspec": {
   "display_name": "Python 3",
   "language": "python",
   "name": "python3"
  },
  "language_info": {
   "codemirror_mode": {
    "name": "ipython",
    "version": 3
   },
   "file_extension": ".py",
   "mimetype": "text/x-python",
   "name": "python",
   "nbconvert_exporter": "python",
   "pygments_lexer": "ipython3",
   "version": "3.7.3"
  }
 },
 "nbformat": 4,
 "nbformat_minor": 2
}
