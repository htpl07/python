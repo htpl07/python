{
 "cells": [
  {
   "cell_type": "markdown",
   "metadata": {},
   "source": [
    "# string functions-built in functions"
   ]
  },
  {
   "cell_type": "code",
   "execution_count": 1,
   "metadata": {},
   "outputs": [
    {
     "name": "stdout",
     "output_type": "stream",
     "text": [
      "ANIL\n",
      "anil\n"
     ]
    }
   ],
   "source": [
    "str=\"anil\"\n",
    "print(str.upper())\n",
    "print(str.lower())"
   ]
  },
  {
   "cell_type": "markdown",
   "metadata": {},
   "source": [
    "# boolean methods\n",
    "# islower()  - if true lower case character else upper case character"
   ]
  },
  {
   "cell_type": "code",
   "execution_count": 11,
   "metadata": {},
   "outputs": [
    {
     "name": "stdout",
     "output_type": "stream",
     "text": [
      "True\n",
      "False\n",
      "False\n",
      "False\n",
      "True\n",
      "True\n",
      "False\n",
      "False\n",
      "True\n"
     ]
    }
   ],
   "source": [
    "s='a'\n",
    "s1=\"python IS EasY\"\n",
    "s2=\"PYTHON IS EASY\"\n",
    "s3=\"1235\"\n",
    "s4=\"12bhgMK\"\n",
    "s5=\"application\"\n",
    "print(s5.isalpha())\n",
    "print(s2.isalpha())\n",
    "print(s4.isalpha())\n",
    "print(s4.isnumeric())\n",
    "print(s3.isnumeric())\n",
    "print(s.islower())\n",
    "print(s1.isupper())\n",
    "print(s2.islower())\n",
    "print(s2.isupper())"
   ]
  },
  {
   "cell_type": "code",
   "execution_count": 17,
   "metadata": {},
   "outputs": [
    {
     "name": "stdout",
     "output_type": "stream",
     "text": [
      "False\n",
      "True\n",
      "False\n",
      "False\n",
      "True\n"
     ]
    }
   ],
   "source": [
    "s=\"Python Is Easy\"\n",
    "s2=\"python is easy\"\n",
    "print(s2.istitle())\n",
    "print(s.istitle())\n",
    "print(s2.isspace())\n",
    "print(s.isspace())\n",
    "s3=\" \"\n",
    "print(s3.isspace())"
   ]
  },
  {
   "cell_type": "markdown",
   "metadata": {},
   "source": [
    "# string methods\n",
    "## 1.join() - concatenate two strings\n",
    "## 2.spl it() - \n",
    "## 3.replace() - "
   ]
  },
  {
   "cell_type": "code",
   "execution_count": 16,
   "metadata": {},
   "outputs": [
    {
     "name": "stdout",
     "output_type": "stream",
     "text": [
      "p y t h o n\n"
     ]
    }
   ],
   "source": [
    "str=\"python\"\n",
    "print(\" \".join(str))"
   ]
  },
  {
   "cell_type": "code",
   "execution_count": 20,
   "metadata": {},
   "outputs": [
    {
     "name": "stdout",
     "output_type": "stream",
     "text": [
      "python,programming,easy\n"
     ]
    }
   ],
   "source": [
    "print(\",\".join([\"python\",\"programming\",\"easy\"]))\n"
   ]
  },
  {
   "cell_type": "code",
   "execution_count": 21,
   "metadata": {},
   "outputs": [
    {
     "name": "stdout",
     "output_type": "stream",
     "text": [
      ",\n"
     ]
    }
   ],
   "source": [
    "lst=[\"\",\"\"]\n",
    "print(\",\".join(lst))"
   ]
  },
  {
   "cell_type": "code",
   "execution_count": 23,
   "metadata": {},
   "outputs": [
    {
     "name": "stdout",
     "output_type": "stream",
     "text": [
      "['python', 'programming', 'is', 'easy', 'to', 'lear']\n",
      "['python progr', 'mming is e', 'sy to le', 'r']\n"
     ]
    }
   ],
   "source": [
    "s=\"python programming is easy to lear\"\n",
    "print(s.split())\n",
    "print(s.split(\"a\"))"
   ]
  },
  {
   "cell_type": "code",
   "execution_count": 25,
   "metadata": {},
   "outputs": [
    {
     "name": "stdout",
     "output_type": "stream",
     "text": [
      "['python', 'programming', 'is', 'easy', 'to', 'lear']\n",
      "['p', 'y', 't', 'h', 'o', 'n', ' ', 'p', 'r', 'o', 'g', 'r', 'a', 'm', 'm', 'i', 'n', 'g', ' ', 'i', 's', ' ', 'e', 'a', 's', 'y', ' ', 't', 'o', ' ', 'l', 'e', 'a', 'r']\n",
      "2\n"
     ]
    }
   ],
   "source": [
    "s=\"python programming is easy to lear\"\n",
    "lst=s.split()\n",
    "print(lst)\n",
    "print(list(s))\n",
    "print(lst.index(\"is\"))"
   ]
  },
  {
   "cell_type": "code",
   "execution_count": 27,
   "metadata": {},
   "outputs": [
    {
     "name": "stdout",
     "output_type": "stream",
     "text": [
      "python programming is hard to learn\n"
     ]
    }
   ],
   "source": [
    "s=\"python programming is easy to learn\"\n",
    "print(s.replace(\"easy\",\"hard\"))"
   ]
  },
  {
   "cell_type": "markdown",
   "metadata": {},
   "source": [
    "# tuples"
   ]
  },
  {
   "cell_type": "code",
   "execution_count": 32,
   "metadata": {},
   "outputs": [
    {
     "name": "stdout",
     "output_type": "stream",
     "text": [
      "t1[0] =  python\n",
      "t1[1] =  programming\n",
      "t1[-1] =  AI\n",
      "t1[1:4] =  ('programming', 1989, 2019)\n",
      "t1[2:-2] =  (1989, 2019)\n"
     ]
    }
   ],
   "source": [
    "t1=(\"python\",\"programming\",1989,2019,\"Machine learning\",\"AI\")\n",
    "print(\"t1[0] = \",t1[0])\n",
    "print(\"t1[1] = \",t1[1])\n",
    "print(\"t1[-1] = \",t1[-1])\n",
    "print(\"t1[1:4] = \",t1[1:4])\n",
    "print(\"t1[2:-2] = \",t1[2:-2])"
   ]
  },
  {
   "cell_type": "code",
   "execution_count": 36,
   "metadata": {},
   "outputs": [
    {
     "name": "stdout",
     "output_type": "stream",
     "text": [
      "('python', 'programming', 1989, 2019, 'Machine learning', 'AI', 125, 'hi', 85)\n",
      "9\n"
     ]
    }
   ],
   "source": [
    "t1=(\"python\",\"programming\",1989,2019,\"Machine learning\",\"AI\")\n",
    "t2=(125,\"hi\",85)\n",
    "t3=t1+t2\n",
    "print(t3)\n",
    "print(len(t3))"
   ]
  },
  {
   "cell_type": "code",
   "execution_count": 37,
   "metadata": {},
   "outputs": [
    {
     "name": "stdout",
     "output_type": "stream",
     "text": [
      "(1, 2, 3, 4, 5)\n",
      "(1, 2, 3, 4, 5)\n"
     ]
    },
    {
     "ename": "NameError",
     "evalue": "name 'cmp' is not defined",
     "output_type": "error",
     "traceback": [
      "\u001b[1;31m---------------------------------------------------------------------------\u001b[0m",
      "\u001b[1;31mNameError\u001b[0m                                 Traceback (most recent call last)",
      "\u001b[1;32m<ipython-input-37-660e0ff55bf9>\u001b[0m in \u001b[0;36m<module>\u001b[1;34m\u001b[0m\n\u001b[0;32m      3\u001b[0m \u001b[0mprint\u001b[0m\u001b[1;33m(\u001b[0m\u001b[0mt1\u001b[0m\u001b[1;33m)\u001b[0m\u001b[1;33m\u001b[0m\u001b[1;33m\u001b[0m\u001b[0m\n\u001b[0;32m      4\u001b[0m \u001b[0mprint\u001b[0m\u001b[1;33m(\u001b[0m\u001b[0mt2\u001b[0m\u001b[1;33m)\u001b[0m\u001b[1;33m\u001b[0m\u001b[1;33m\u001b[0m\u001b[0m\n\u001b[1;32m----> 5\u001b[1;33m \u001b[0ma\u001b[0m\u001b[1;33m=\u001b[0m\u001b[0mcmp\u001b[0m\u001b[1;33m(\u001b[0m\u001b[0mt1\u001b[0m\u001b[1;33m,\u001b[0m\u001b[0mt2\u001b[0m\u001b[1;33m)\u001b[0m\u001b[1;33m\u001b[0m\u001b[1;33m\u001b[0m\u001b[0m\n\u001b[0m\u001b[0;32m      6\u001b[0m \u001b[0mprint\u001b[0m\u001b[1;33m(\u001b[0m\u001b[0ma\u001b[0m\u001b[1;33m)\u001b[0m\u001b[1;33m\u001b[0m\u001b[1;33m\u001b[0m\u001b[0m\n",
      "\u001b[1;31mNameError\u001b[0m: name 'cmp' is not defined"
     ]
    }
   ],
   "source": [
    "t1=(1,2,3,4,5)\n",
    "t2=(1,2,3,4,5)\n",
    "print(t1)\n",
    "print(t2)\n",
    "a=cmp(t1,t2)\n",
    "print(a)"
   ]
  },
  {
   "cell_type": "code",
   "execution_count": 39,
   "metadata": {},
   "outputs": [
    {
     "name": "stdout",
     "output_type": "stream",
     "text": [
      "user1[name]= anil\n",
      "user1[age]= 19\n",
      "user1[email]= xyz@gmail.com\n",
      "user1[mobileno]= 123456890\n"
     ]
    }
   ],
   "source": [
    "user1={'name':'anil','age':'19','email':\"xyz@gmail.com\",'mobileno':'123456890'}\n",
    "print('user1[name]=',user1['name'])\n",
    "print('user1[age]=',user1['age'])\n",
    "print('user1[email]=',user1['email'])\n",
    "print('user1[mobileno]=',user1['mobileno'])"
   ]
  },
  {
   "cell_type": "code",
   "execution_count": 43,
   "metadata": {},
   "outputs": [
    {
     "name": "stdout",
     "output_type": "stream",
     "text": [
      "xyz@gmail.com\n",
      "ghdh@gmail.com\n"
     ]
    }
   ],
   "source": [
    "user1={'name':'anil','age':'19','email':\"xyz@gmail.com\",'mobileno':'123456890'}\n",
    "print(user1['email'])\n",
    "user1['email']='ghdh@gmail.com'\n",
    "print(user1['email'])\n"
   ]
  },
  {
   "cell_type": "code",
   "execution_count": 45,
   "metadata": {},
   "outputs": [],
   "source": [
    "user1={'name':'anil','age':'19','email':\"xyz@gmail.com\",'mobileno':'123456890'}\n",
    "del user1['email']\n",
    "user1.clear()\n",
    "del user1"
   ]
  },
  {
   "cell_type": "code",
   "execution_count": 46,
   "metadata": {},
   "outputs": [
    {
     "name": "stdout",
     "output_type": "stream",
     "text": [
      "{'name': 'anil', 'age': '19', 'email': 'xyz@gmail.com', 'mobileno': '123456890'}\n",
      "{'name': 'anil', 'age': '19', 'email': 'xyz@gmail.com', 'mobileno': '123456890'}\n"
     ]
    }
   ],
   "source": [
    "user1={'name':'anil','age':'19','email':\"xyz@gmail.com\",'mobileno':'123456890'}\n",
    "user2=user1.copy()\n",
    "print(user1)\n",
    "print(user2)\n"
   ]
  },
  {
   "cell_type": "code",
   "execution_count": 47,
   "metadata": {},
   "outputs": [
    {
     "name": "stdout",
     "output_type": "stream",
     "text": [
      "dict_values(['anil', '19', 'xyz@gmail.com', '123456890'])\n",
      "dict_values(['anil', '19', 'xyz@gmail.com', '123456890'])\n"
     ]
    }
   ],
   "source": [
    "user1={'name':'anil','age':'19','email':\"xyz@gmail.com\",'mobileno':'123456890'}\n",
    "user2=user1.copy()\n",
    "print(user1.values())\n",
    "print(user2.values())"
   ]
  },
  {
   "cell_type": "markdown",
   "metadata": {},
   "source": [
    "# Python--Dictionary\n",
    "# user data can be separatedby comma operator.\n",
    "# Methods\n",
    "# 1.len(dictobj)--returns a number which having length.\n",
    "# 2.str(dicobj)--returns the equ string to dic object.\n",
    "# 3.copy()--copies the one dic object data to another dic"
   ]
  },
  {
   "cell_type": "code",
   "execution_count": 9,
   "metadata": {},
   "outputs": [
    {
     "name": "stdout",
     "output_type": "stream",
     "text": [
      "Contact %s added % name\n",
      "Contact %s added % name\n",
      "Contact Anil already exists\n"
     ]
    }
   ],
   "source": [
    "contact= {}\n",
    "def addContact(name,phone):\n",
    "    #verify that the contact doesnot already exists\n",
    "    if name not in contact:\n",
    "        contact[name] =phone\n",
    "        print(\"Contact %s added\" % name)\n",
    "    else:\n",
    "        print(\"Contact %s already exists\" % name)\n",
    "    return\n",
    "addContact(\"Anil\",95137521)\n",
    "addContact(\"Pooja\",996633221)\n",
    "addContact(\"Anil\",9988774466)\n"
   ]
  },
  {
   "cell_type": "code",
   "execution_count": 13,
   "metadata": {},
   "outputs": [
    {
     "name": "stdout",
     "output_type": "stream",
     "text": [
      "Anil : 95137521\n",
      "ajay does not exists\n",
      "harsha does not exists\n",
      "Pooja : 996633221\n"
     ]
    }
   ],
   "source": [
    "def searchContact(name):\n",
    "    if name in contact:\n",
    "        print(name,\":\",contact[name])\n",
    "    else:\n",
    "        print(\"%s does not exists\" % name)\n",
    "    return\n",
    "searchContact(\"Anil\")\n",
    "searchContact(\"ajay\")\n",
    "searchContact(\"harsha\")\n",
    "searchContact(\"Pooja\")"
   ]
  },
  {
   "cell_type": "code",
   "execution_count": 15,
   "metadata": {},
   "outputs": [
    {
     "name": "stdout",
     "output_type": "stream",
     "text": [
      "2 contacts added successful\n"
     ]
    }
   ],
   "source": [
    "def importContacts(newContacts):\n",
    "    contacts.update(newContacts)\n",
    "    print(len(newContacts.keys()),\"contacts added successful\")\n",
    "    return\n",
    "newContacts={'Dinesh':986543210,'ajay':123456890}\n",
    "importContacts(newContacts)"
   ]
  },
  {
   "cell_type": "code",
   "execution_count": 24,
   "metadata": {},
   "outputs": [
    {
     "name": "stdout",
     "output_type": "stream",
     "text": [
      "harsha is not exists in the contacts\n",
      "naveen is not exists in the contacts\n",
      "Dinesh is not exists in the contacts\n"
     ]
    }
   ],
   "source": [
    "def delContact(name):\n",
    "    if name in contacts:\n",
    "        del contacts[name]\n",
    "        print(name,\":is deleted from contacts\")\n",
    "    else:\n",
    "        print(name,\"is not exists in the contacts\")\n",
    "    return\n",
    "delContact(\"harsha\")\n",
    "delContact(\"naveen\")\n",
    "delContact(\"Dinesh\")"
   ]
  },
  {
   "cell_type": "code",
   "execution_count": 23,
   "metadata": {},
   "outputs": [
    {
     "name": "stdout",
     "output_type": "stream",
     "text": [
      "{'ajay': 123456890}\n"
     ]
    }
   ],
   "source": [
    "print(contacts)"
   ]
  },
  {
   "cell_type": "code",
   "execution_count": 26,
   "metadata": {},
   "outputs": [
    {
     "name": "stdout",
     "output_type": "stream",
     "text": [
      "Anil not exists in contacts\n",
      "Harsha not exists in contacts\n",
      "ajay :updated with new phone number\n"
     ]
    }
   ],
   "source": [
    "def updateContact(name,phone):\n",
    "    if name in contacts:\n",
    "        contacts[name]=phone\n",
    "        print(name,\":updated with new phone number\")\n",
    "    else:\n",
    "        print(name,\"not exists in contacts\")\n",
    "        return\n",
    "updateContact(\"Anil\",54231561)\n",
    "updateContact(\"Harsha\",98651561)\n",
    "updateContact(\"ajay\",59854621)\n"
   ]
  },
  {
   "cell_type": "markdown",
   "metadata": {},
   "source": [
    "# packages and modules\n",
    "# package: collection of modules\n",
    "# subpackages;its part of main packages\n",
    "# module:a single python files contains site of operations\n",
    "\n",
    "#### package-->sub-package-->modules-->functions"
   ]
  },
  {
   "cell_type": "code",
   "execution_count": 28,
   "metadata": {},
   "outputs": [
    {
     "data": {
      "text/plain": [
       "123"
      ]
     },
     "execution_count": 28,
     "metadata": {},
     "output_type": "execute_result"
    }
   ],
   "source": [
    "from math import floor as f1\n",
    "f1(123.456)"
   ]
  },
  {
   "cell_type": "code",
   "execution_count": 29,
   "metadata": {},
   "outputs": [
    {
     "data": {
      "text/plain": [
       "120"
      ]
     },
     "execution_count": 29,
     "metadata": {},
     "output_type": "execute_result"
    }
   ],
   "source": [
    "from math import factorial as fact\n",
    "fact(5)"
   ]
  },
  {
   "cell_type": "code",
   "execution_count": 30,
   "metadata": {},
   "outputs": [
    {
     "data": {
      "text/plain": [
       "120"
      ]
     },
     "execution_count": 30,
     "metadata": {},
     "output_type": "execute_result"
    }
   ],
   "source": [
    "import math \n",
    "math.factorial(5)"
   ]
  },
  {
   "cell_type": "code",
   "execution_count": 33,
   "metadata": {},
   "outputs": [
    {
     "name": "stdout",
     "output_type": "stream",
     "text": [
      "67 103 75 58 71 85 104 50 12 32 "
     ]
    }
   ],
   "source": [
    "import random\n",
    "def generateRandomNumbers(n,lb,ub):\n",
    "    for i in range(0,n):\n",
    "        print(random.randint(lb,ub),end=\" \")\n",
    "    return\n",
    "generateRandomNumbers(10,12,120)"
   ]
  }
 ],
 "metadata": {
  "kernelspec": {
   "display_name": "Python 3",
   "language": "python",
   "name": "python3"
  },
  "language_info": {
   "codemirror_mode": {
    "name": "ipython",
    "version": 3
   },
   "file_extension": ".py",
   "mimetype": "text/x-python",
   "name": "python",
   "nbconvert_exporter": "python",
   "pygments_lexer": "ipython3",
   "version": "3.7.3"
  }
 },
 "nbformat": 4,
 "nbformat_minor": 2
}
