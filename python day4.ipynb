{
 "cells": [
  {
   "cell_type": "markdown",
   "metadata": {},
   "source": [
    "# binary search\n"
   ]
  },
  {
   "cell_type": "code",
   "execution_count": 7,
   "metadata": {},
   "outputs": [
    {
     "name": "stdout",
     "output_type": "stream",
     "text": [
      "item is not found\n"
     ]
    }
   ],
   "source": [
    "def binarySearch(a,lIndex,rIndex,tarItem):\n",
    "    while(lIndex<=rIndex):\n",
    "        mIndex=lIndex+(rIndex-lIndex)//2;\n",
    "        if a[mIndex]==tarItem:\n",
    "            return mIndex\n",
    "        if a[mIndex]>tarItem:\n",
    "            rIndex=mIndex-1\n",
    "        else:\n",
    "            lIndex=mIndex+1\n",
    "    return -1\n",
    "list1=[1,4,9,15,25,45,57,88,98]\n",
    "res=binarySearch(list1,0,8,818)\n",
    "if res!=-1:\n",
    "    print(\"item is found\");\n",
    "else:\n",
    "    print(\"item is not found\");   "
   ]
  },
  {
   "cell_type": "markdown",
   "metadata": {},
   "source": [
    "# bubble sort"
   ]
  },
  {
   "cell_type": "code",
   "execution_count": 9,
   "metadata": {},
   "outputs": [
    {
     "name": "stdout",
     "output_type": "stream",
     "text": [
      "1 3 6 18 19 25 "
     ]
    }
   ],
   "source": [
    "def bubbleSort(a):\n",
    "    for i in range(len(a)-1):\n",
    "        for j in range(len(a)-1):\n",
    "            if a[j]>a[j+1]:\n",
    "                a[j],a[j+1]=a[j+1],a[j]\n",
    "    for i in range(len(a)):\n",
    "        print(a[i],end= \" \")\n",
    "list1=[19,1,25,6,18,3]\n",
    "bubbleSort(list1)"
   ]
  },
  {
   "cell_type": "markdown",
   "metadata": {},
   "source": [
    "# strings in python \n",
    "     string  is  the sequence of characters <br>\n",
    "     the conversion of character to a number happens with ASCII numbers \n",
    "     ASCII numbers:\n",
    "     A-Z----------65-90\n",
    "     a-z----------97-122\n",
    "     0-9----------48-57\n",
    "## create a string\n",
    "     "
   ]
  },
  {
   "cell_type": "code",
   "execution_count": 10,
   "metadata": {},
   "outputs": [
    {
     "name": "stdout",
     "output_type": "stream",
     "text": [
      "application\n",
      "application\n",
      "application test\n",
      "        working\n",
      "        completed\n",
      "        list\n",
      "        strings\n",
      "        python\n"
     ]
    }
   ],
   "source": [
    "str=\"application\"\n",
    "print(str)\n",
    "\n",
    "str1='application'\n",
    "print(str1)\n",
    "\n",
    "str2=\"\"\"application test\n",
    "        working\n",
    "        completed\n",
    "        list\n",
    "        strings\n",
    "        python\"\"\"\n",
    "print(str2)"
   ]
  },
  {
   "cell_type": "code",
   "execution_count": 7,
   "metadata": {},
   "outputs": [
    {
     "name": "stdout",
     "output_type": "stream",
     "text": [
      "application\n",
      "str[0] =  a\n",
      "str[1] =  p\n",
      "str[-1] =  n\n",
      "str[-3] =  i\n",
      "str[1:5] =  ppli\n",
      "str[:5] =  appli\n",
      "str[:-5] =  applic\n",
      "str[5:-2] =  cati\n",
      "str[::5] =  acn\n",
      "str[5::5] =  cp\n"
     ]
    }
   ],
   "source": [
    "str=\"application\"\n",
    "print(str)\n",
    "print(\"str[0] = \",str[0])\n",
    "print(\"str[1] = \",str[1])\n",
    "print(\"str[-1] = \",str[-1])\n",
    "print(\"str[-3] = \",str[-3])\n",
    "print(\"str[1:5] = \",str[1:5])\n",
    "print(\"str[:5] = \",str[:5])\n",
    "print(\"str[:-5] = \",str[:-5])\n",
    "print(\"str[5:-2] = \",str[5:-2])\n",
    "print(\"str[::5] = \",str[::5])\n",
    "print(\"str[5::5] = \",str[5::-4])"
   ]
  },
  {
   "cell_type": "markdown",
   "metadata": {},
   "source": [
    "# palindrome"
   ]
  },
  {
   "cell_type": "code",
   "execution_count": 1,
   "metadata": {},
   "outputs": [
    {
     "name": "stdout",
     "output_type": "stream",
     "text": [
      "False\n",
      "True\n"
     ]
    }
   ],
   "source": [
    "def isPalindrome(s):\n",
    "    if s==s[::-1]:\n",
    "        return True\n",
    "    else:\n",
    "        return False\n",
    "print(isPalindrome(\"python\"))\n",
    "print(isPalindrome(\"jalaj\"))\n"
   ]
  },
  {
   "cell_type": "markdown",
   "metadata": {},
   "source": [
    "# count the digits of a number\n"
   ]
  },
  {
   "cell_type": "code",
   "execution_count": 2,
   "metadata": {},
   "outputs": [
    {
     "name": "stdout",
     "output_type": "stream",
     "text": [
      "enter the number14569\n",
      "5\n"
     ]
    }
   ],
   "source": [
    "n=int(input(\"enter the number\"))\n",
    "cnt=0\n",
    "while(n!=0):\n",
    "    cnt=cnt+1;\n",
    "    n=n//10;\n",
    "print(cnt)    "
   ]
  },
  {
   "cell_type": "code",
   "execution_count": 5,
   "metadata": {},
   "outputs": [
    {
     "data": {
      "text/plain": [
       "11"
      ]
     },
     "execution_count": 5,
     "metadata": {},
     "output_type": "execute_result"
    }
   ],
   "source": [
    "#count the digits of number-------strlen functions\n",
    "def countOfcharacters(str):\n",
    "    return len(str)\n",
    "countOfcharacters(\"application\")"
   ]
  },
  {
   "cell_type": "code",
   "execution_count": 6,
   "metadata": {},
   "outputs": [
    {
     "data": {
      "text/plain": [
       "5"
      ]
     },
     "execution_count": 6,
     "metadata": {},
     "output_type": "execute_result"
    }
   ],
   "source": [
    "def countOfdig(n):\n",
    "    return len(n)\n",
    "countOfdig(\"14569\")"
   ]
  },
  {
   "cell_type": "code",
   "execution_count": 9,
   "metadata": {},
   "outputs": [
    {
     "name": "stdout",
     "output_type": "stream",
     "text": [
      "0\n",
      "3\n",
      "11\n"
     ]
    }
   ],
   "source": [
    "def countUpperCase(str):\n",
    "    cnt=0\n",
    "    lst=list(str)\n",
    "    for x in range(len(lst)):\n",
    "        if ord(lst[x])>=65 and ord(lst[x])<=90:\n",
    "            cnt=cnt+1\n",
    "    return cnt\n",
    "print(countUpperCase(\"test\"))     \n",
    "print(countUpperCase(\"TEsT\"))\n",
    "print(countUpperCase(\"APPLICATION\"))    "
   ]
  },
  {
   "cell_type": "markdown",
   "metadata": {},
   "source": [
    "# "
   ]
  },
  {
   "cell_type": "code",
   "execution_count": 11,
   "metadata": {},
   "outputs": [
    {
     "name": "stdout",
     "output_type": "stream",
     "text": [
      "4\n",
      "1\n",
      "0\n"
     ]
    }
   ],
   "source": [
    "def countLowerCase(str):\n",
    "    cnt=0\n",
    "    lst=list(str)\n",
    "    for x in range(len(lst)):\n",
    "        if ord(lst[x])>=97 and ord(lst[x])<=122:\n",
    "            cnt=cnt+1\n",
    "    return cnt\n",
    "print(countLowerCase(\"test\"))     \n",
    "print(countLowerCase(\"TEsT\"))\n",
    "print(countLowerCase(\"APPLICATION\"))    "
   ]
  },
  {
   "cell_type": "code",
   "execution_count": 21,
   "metadata": {},
   "outputs": [
    {
     "name": "stdout",
     "output_type": "stream",
     "text": [
      "5 2 6 "
     ]
    }
   ],
   "source": [
    "def printDigits(str):\n",
    "    lst=list(str)\n",
    "    for x in range(len(lst)):\n",
    "        if ord(lst[x])>=48 and ord(lst[x])<=57:\n",
    "            print(lst[x],end= \" \");\n",
    "            \n",
    "printDigits(\"appli526\")"
   ]
  },
  {
   "cell_type": "code",
   "execution_count": 3,
   "metadata": {},
   "outputs": [
    {
     "name": "stdout",
     "output_type": "stream",
     "text": [
      "<built-in function sum>\n"
     ]
    },
    {
     "data": {
      "text/plain": [
       "13"
      ]
     },
     "execution_count": 3,
     "metadata": {},
     "output_type": "execute_result"
    }
   ],
   "source": [
    "def printSumDigits(str):\n",
    "    sum=0\n",
    "    lst=list(str)\n",
    "    for x in range(len(lst)):\n",
    "        if ord(lst[x])>=48 and ord(lst[x])<=57:\n",
    "            sum=sum+int(lst[x]);\n",
    "    return sum        \n",
    "print(sum);\n",
    "printSumDigits(\"appli526\")\n",
    "            "
   ]
  },
  {
   "cell_type": "markdown",
   "metadata": {},
   "source": [
    "# strings---add only even digits to sum"
   ]
  },
  {
   "cell_type": "code",
   "execution_count": 9,
   "metadata": {},
   "outputs": [
    {
     "name": "stdout",
     "output_type": "stream",
     "text": [
      "<built-in function sum>\n"
     ]
    },
    {
     "data": {
      "text/plain": [
       "8"
      ]
     },
     "execution_count": 9,
     "metadata": {},
     "output_type": "execute_result"
    }
   ],
   "source": [
    "def printSumDigits(str):\n",
    "    sum=0\n",
    "    lst=list(str)\n",
    "    for x in range(len(lst)):\n",
    "        if ord(lst[x])>=48 and ord(lst[x])<=57:\n",
    "            if ord(lst[x])%2==0:\n",
    "                sum=sum+int(lst[x]);\n",
    "    return sum        \n",
    "print(sum);\n",
    "printSumDigits(\"appli526\")"
   ]
  },
  {
   "cell_type": "code",
   "execution_count": null,
   "metadata": {},
   "outputs": [],
   "source": [
    "def countLowerCase(str):\n",
    "    cnt=0\n",
    "    lst=list(str)\n",
    "    for x in range(len(lst)):\n",
    "        if ord(lst[x])>=97 and ord(lst[x])<=122:"
   ]
  }
 ],
 "metadata": {
  "kernelspec": {
   "display_name": "Python 3",
   "language": "python",
   "name": "python3"
  },
  "language_info": {
   "codemirror_mode": {
    "name": "ipython",
    "version": 3
   },
   "file_extension": ".py",
   "mimetype": "text/x-python",
   "name": "python",
   "nbconvert_exporter": "python",
   "pygments_lexer": "ipython3",
   "version": "3.7.3"
  }
 },
 "nbformat": 4,
 "nbformat_minor": 2
}
